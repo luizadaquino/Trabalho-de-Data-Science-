{
  "nbformat": 4,
  "nbformat_minor": 0,
  "metadata": {
    "colab": {
      "provenance": [],
      "authorship_tag": "ABX9TyOCDLr0au6RB5ufLhsLeRjA",
      "include_colab_link": true
    },
    "kernelspec": {
      "name": "python3",
      "display_name": "Python 3"
    },
    "language_info": {
      "name": "python"
    }
  },
  "cells": [
    {
      "cell_type": "markdown",
      "metadata": {
        "id": "view-in-github",
        "colab_type": "text"
      },
      "source": [
        "<a href=\"https://colab.research.google.com/github/luizadaquino/Trabalho-de-Data-Science-/blob/main/projeto_final_data_science.ipynb\" target=\"_parent\"><img src=\"https://colab.research.google.com/assets/colab-badge.svg\" alt=\"Open In Colab\"/></a>"
      ]
    },
    {
      "cell_type": "code",
      "execution_count": null,
      "metadata": {
        "colab": {
          "base_uri": "https://localhost:8080/",
          "height": 713
        },
        "id": "V5tBmKEzhVfG",
        "outputId": "596fcc5b-0af3-420c-ae99-9857875e553a"
      },
      "outputs": [
        {
          "output_type": "execute_result",
          "data": {
            "text/plain": [
              "    match dayofweek           match_time      home_team     away_team  \\\n",
              "0       1       Sun  2022-11-20 19:00:00          Qatar       Ecuador   \n",
              "1       2       Mon  2022-11-21 16:00:00        England       IR Iran   \n",
              "2       3       Mon  2022-11-21 19:00:00        Senegal   Netherlands   \n",
              "3       4       Mon  2022-11-21 22:00:00  United States         Wales   \n",
              "4       5       Tue  2022-11-22 13:00:00      Argentina  Saudi Arabia   \n",
              "..    ...       ...                  ...            ...           ...   \n",
              "57     58       Fri  2022-12-09 22:00:00    Netherlands     Argentina   \n",
              "58     59       Sat  2022-12-10 18:00:00        Morocco      Portugal   \n",
              "59     60       Sat  2022-12-10 22:00:00        England        France   \n",
              "60     61       Tue  2022-12-13 22:00:00      Argentina       Croatia   \n",
              "61     62       Wed  2022-12-14 22:00:00         France       Morocco   \n",
              "\n",
              "    home_xg  away_xg        score  attendance                          venue  \\\n",
              "0       0.3      1.2          0–2     67372.0                Al Bayt Stadium   \n",
              "1       2.1      1.4          6–2     45334.0  Khalifa International Stadium   \n",
              "2       0.9      0.7          0–2     41721.0             Al Thumama Stadium   \n",
              "3       0.8      1.5          1–1     43418.0          Ahmed bin Ali Stadium   \n",
              "4       2.2      0.1          1–2     88012.0          Lusail Iconic Stadium   \n",
              "..      ...      ...          ...         ...                            ...   \n",
              "57      0.6      1.9  (3) 2–2 (4)     88235.0          Lusail Iconic Stadium   \n",
              "58      1.4      0.9          1–0     44198.0             Al Thumama Stadium   \n",
              "59      2.4      0.9          1–2     68895.0                Al Bayt Stadium   \n",
              "60      NaN      NaN          NaN         NaN          Lusail Iconic Stadium   \n",
              "61      NaN      NaN          NaN         NaN                Al Bayt Stadium   \n",
              "\n",
              "    ... home_clearances away_clearances home_offsides away_offsides home_gks  \\\n",
              "0   ...            18.0             7.0           3.0           4.0      4.0   \n",
              "1   ...             4.0            23.0           2.0           2.0      5.0   \n",
              "2   ...            32.0            16.0           2.0           1.0      6.0   \n",
              "3   ...            18.0            31.0           1.0           1.0      5.0   \n",
              "4   ...            11.0            26.0          10.0           1.0      3.0   \n",
              "..  ...             ...             ...           ...           ...      ...   \n",
              "57  ...            17.0            20.0           1.0           2.0      9.0   \n",
              "58  ...            36.0             3.0           2.0           2.0     12.0   \n",
              "59  ...            13.0            16.0           1.0           2.0      9.0   \n",
              "60  ...             NaN             NaN           NaN           NaN      NaN   \n",
              "61  ...             NaN             NaN           NaN           NaN      NaN   \n",
              "\n",
              "   away_gks home_throw_ins  away_throw_ins  home_long_balls  away_long_balls  \n",
              "0       7.0           20.0            17.0             51.0             70.0  \n",
              "1       5.0           18.0            17.0             87.0             50.0  \n",
              "2      10.0           17.0            28.0             64.0             66.0  \n",
              "3      10.0           22.0            25.0             56.0             90.0  \n",
              "4       9.0           24.0            13.0             55.0             59.0  \n",
              "..      ...            ...             ...              ...              ...  \n",
              "57      9.0           29.0            19.0             93.0             57.0  \n",
              "58      9.0           11.0            27.0             61.0             73.0  \n",
              "59      5.0           16.0            14.0             61.0             62.0  \n",
              "60      NaN            NaN             NaN              NaN              NaN  \n",
              "61      NaN            NaN             NaN              NaN              NaN  \n",
              "\n",
              "[62 rows x 53 columns]"
            ],
            "text/html": [
              "\n",
              "  <div id=\"df-3f97e371-8b87-4214-9889-a8a0fd732d56\">\n",
              "    <div class=\"colab-df-container\">\n",
              "      <div>\n",
              "<style scoped>\n",
              "    .dataframe tbody tr th:only-of-type {\n",
              "        vertical-align: middle;\n",
              "    }\n",
              "\n",
              "    .dataframe tbody tr th {\n",
              "        vertical-align: top;\n",
              "    }\n",
              "\n",
              "    .dataframe thead th {\n",
              "        text-align: right;\n",
              "    }\n",
              "</style>\n",
              "<table border=\"1\" class=\"dataframe\">\n",
              "  <thead>\n",
              "    <tr style=\"text-align: right;\">\n",
              "      <th></th>\n",
              "      <th>match</th>\n",
              "      <th>dayofweek</th>\n",
              "      <th>match_time</th>\n",
              "      <th>home_team</th>\n",
              "      <th>away_team</th>\n",
              "      <th>home_xg</th>\n",
              "      <th>away_xg</th>\n",
              "      <th>score</th>\n",
              "      <th>attendance</th>\n",
              "      <th>venue</th>\n",
              "      <th>...</th>\n",
              "      <th>home_clearances</th>\n",
              "      <th>away_clearances</th>\n",
              "      <th>home_offsides</th>\n",
              "      <th>away_offsides</th>\n",
              "      <th>home_gks</th>\n",
              "      <th>away_gks</th>\n",
              "      <th>home_throw_ins</th>\n",
              "      <th>away_throw_ins</th>\n",
              "      <th>home_long_balls</th>\n",
              "      <th>away_long_balls</th>\n",
              "    </tr>\n",
              "  </thead>\n",
              "  <tbody>\n",
              "    <tr>\n",
              "      <th>0</th>\n",
              "      <td>1</td>\n",
              "      <td>Sun</td>\n",
              "      <td>2022-11-20 19:00:00</td>\n",
              "      <td>Qatar</td>\n",
              "      <td>Ecuador</td>\n",
              "      <td>0.3</td>\n",
              "      <td>1.2</td>\n",
              "      <td>0–2</td>\n",
              "      <td>67372.0</td>\n",
              "      <td>Al Bayt Stadium</td>\n",
              "      <td>...</td>\n",
              "      <td>18.0</td>\n",
              "      <td>7.0</td>\n",
              "      <td>3.0</td>\n",
              "      <td>4.0</td>\n",
              "      <td>4.0</td>\n",
              "      <td>7.0</td>\n",
              "      <td>20.0</td>\n",
              "      <td>17.0</td>\n",
              "      <td>51.0</td>\n",
              "      <td>70.0</td>\n",
              "    </tr>\n",
              "    <tr>\n",
              "      <th>1</th>\n",
              "      <td>2</td>\n",
              "      <td>Mon</td>\n",
              "      <td>2022-11-21 16:00:00</td>\n",
              "      <td>England</td>\n",
              "      <td>IR Iran</td>\n",
              "      <td>2.1</td>\n",
              "      <td>1.4</td>\n",
              "      <td>6–2</td>\n",
              "      <td>45334.0</td>\n",
              "      <td>Khalifa International Stadium</td>\n",
              "      <td>...</td>\n",
              "      <td>4.0</td>\n",
              "      <td>23.0</td>\n",
              "      <td>2.0</td>\n",
              "      <td>2.0</td>\n",
              "      <td>5.0</td>\n",
              "      <td>5.0</td>\n",
              "      <td>18.0</td>\n",
              "      <td>17.0</td>\n",
              "      <td>87.0</td>\n",
              "      <td>50.0</td>\n",
              "    </tr>\n",
              "    <tr>\n",
              "      <th>2</th>\n",
              "      <td>3</td>\n",
              "      <td>Mon</td>\n",
              "      <td>2022-11-21 19:00:00</td>\n",
              "      <td>Senegal</td>\n",
              "      <td>Netherlands</td>\n",
              "      <td>0.9</td>\n",
              "      <td>0.7</td>\n",
              "      <td>0–2</td>\n",
              "      <td>41721.0</td>\n",
              "      <td>Al Thumama Stadium</td>\n",
              "      <td>...</td>\n",
              "      <td>32.0</td>\n",
              "      <td>16.0</td>\n",
              "      <td>2.0</td>\n",
              "      <td>1.0</td>\n",
              "      <td>6.0</td>\n",
              "      <td>10.0</td>\n",
              "      <td>17.0</td>\n",
              "      <td>28.0</td>\n",
              "      <td>64.0</td>\n",
              "      <td>66.0</td>\n",
              "    </tr>\n",
              "    <tr>\n",
              "      <th>3</th>\n",
              "      <td>4</td>\n",
              "      <td>Mon</td>\n",
              "      <td>2022-11-21 22:00:00</td>\n",
              "      <td>United States</td>\n",
              "      <td>Wales</td>\n",
              "      <td>0.8</td>\n",
              "      <td>1.5</td>\n",
              "      <td>1–1</td>\n",
              "      <td>43418.0</td>\n",
              "      <td>Ahmed bin Ali Stadium</td>\n",
              "      <td>...</td>\n",
              "      <td>18.0</td>\n",
              "      <td>31.0</td>\n",
              "      <td>1.0</td>\n",
              "      <td>1.0</td>\n",
              "      <td>5.0</td>\n",
              "      <td>10.0</td>\n",
              "      <td>22.0</td>\n",
              "      <td>25.0</td>\n",
              "      <td>56.0</td>\n",
              "      <td>90.0</td>\n",
              "    </tr>\n",
              "    <tr>\n",
              "      <th>4</th>\n",
              "      <td>5</td>\n",
              "      <td>Tue</td>\n",
              "      <td>2022-11-22 13:00:00</td>\n",
              "      <td>Argentina</td>\n",
              "      <td>Saudi Arabia</td>\n",
              "      <td>2.2</td>\n",
              "      <td>0.1</td>\n",
              "      <td>1–2</td>\n",
              "      <td>88012.0</td>\n",
              "      <td>Lusail Iconic Stadium</td>\n",
              "      <td>...</td>\n",
              "      <td>11.0</td>\n",
              "      <td>26.0</td>\n",
              "      <td>10.0</td>\n",
              "      <td>1.0</td>\n",
              "      <td>3.0</td>\n",
              "      <td>9.0</td>\n",
              "      <td>24.0</td>\n",
              "      <td>13.0</td>\n",
              "      <td>55.0</td>\n",
              "      <td>59.0</td>\n",
              "    </tr>\n",
              "    <tr>\n",
              "      <th>...</th>\n",
              "      <td>...</td>\n",
              "      <td>...</td>\n",
              "      <td>...</td>\n",
              "      <td>...</td>\n",
              "      <td>...</td>\n",
              "      <td>...</td>\n",
              "      <td>...</td>\n",
              "      <td>...</td>\n",
              "      <td>...</td>\n",
              "      <td>...</td>\n",
              "      <td>...</td>\n",
              "      <td>...</td>\n",
              "      <td>...</td>\n",
              "      <td>...</td>\n",
              "      <td>...</td>\n",
              "      <td>...</td>\n",
              "      <td>...</td>\n",
              "      <td>...</td>\n",
              "      <td>...</td>\n",
              "      <td>...</td>\n",
              "      <td>...</td>\n",
              "    </tr>\n",
              "    <tr>\n",
              "      <th>57</th>\n",
              "      <td>58</td>\n",
              "      <td>Fri</td>\n",
              "      <td>2022-12-09 22:00:00</td>\n",
              "      <td>Netherlands</td>\n",
              "      <td>Argentina</td>\n",
              "      <td>0.6</td>\n",
              "      <td>1.9</td>\n",
              "      <td>(3) 2–2 (4)</td>\n",
              "      <td>88235.0</td>\n",
              "      <td>Lusail Iconic Stadium</td>\n",
              "      <td>...</td>\n",
              "      <td>17.0</td>\n",
              "      <td>20.0</td>\n",
              "      <td>1.0</td>\n",
              "      <td>2.0</td>\n",
              "      <td>9.0</td>\n",
              "      <td>9.0</td>\n",
              "      <td>29.0</td>\n",
              "      <td>19.0</td>\n",
              "      <td>93.0</td>\n",
              "      <td>57.0</td>\n",
              "    </tr>\n",
              "    <tr>\n",
              "      <th>58</th>\n",
              "      <td>59</td>\n",
              "      <td>Sat</td>\n",
              "      <td>2022-12-10 18:00:00</td>\n",
              "      <td>Morocco</td>\n",
              "      <td>Portugal</td>\n",
              "      <td>1.4</td>\n",
              "      <td>0.9</td>\n",
              "      <td>1–0</td>\n",
              "      <td>44198.0</td>\n",
              "      <td>Al Thumama Stadium</td>\n",
              "      <td>...</td>\n",
              "      <td>36.0</td>\n",
              "      <td>3.0</td>\n",
              "      <td>2.0</td>\n",
              "      <td>2.0</td>\n",
              "      <td>12.0</td>\n",
              "      <td>9.0</td>\n",
              "      <td>11.0</td>\n",
              "      <td>27.0</td>\n",
              "      <td>61.0</td>\n",
              "      <td>73.0</td>\n",
              "    </tr>\n",
              "    <tr>\n",
              "      <th>59</th>\n",
              "      <td>60</td>\n",
              "      <td>Sat</td>\n",
              "      <td>2022-12-10 22:00:00</td>\n",
              "      <td>England</td>\n",
              "      <td>France</td>\n",
              "      <td>2.4</td>\n",
              "      <td>0.9</td>\n",
              "      <td>1–2</td>\n",
              "      <td>68895.0</td>\n",
              "      <td>Al Bayt Stadium</td>\n",
              "      <td>...</td>\n",
              "      <td>13.0</td>\n",
              "      <td>16.0</td>\n",
              "      <td>1.0</td>\n",
              "      <td>2.0</td>\n",
              "      <td>9.0</td>\n",
              "      <td>5.0</td>\n",
              "      <td>16.0</td>\n",
              "      <td>14.0</td>\n",
              "      <td>61.0</td>\n",
              "      <td>62.0</td>\n",
              "    </tr>\n",
              "    <tr>\n",
              "      <th>60</th>\n",
              "      <td>61</td>\n",
              "      <td>Tue</td>\n",
              "      <td>2022-12-13 22:00:00</td>\n",
              "      <td>Argentina</td>\n",
              "      <td>Croatia</td>\n",
              "      <td>NaN</td>\n",
              "      <td>NaN</td>\n",
              "      <td>NaN</td>\n",
              "      <td>NaN</td>\n",
              "      <td>Lusail Iconic Stadium</td>\n",
              "      <td>...</td>\n",
              "      <td>NaN</td>\n",
              "      <td>NaN</td>\n",
              "      <td>NaN</td>\n",
              "      <td>NaN</td>\n",
              "      <td>NaN</td>\n",
              "      <td>NaN</td>\n",
              "      <td>NaN</td>\n",
              "      <td>NaN</td>\n",
              "      <td>NaN</td>\n",
              "      <td>NaN</td>\n",
              "    </tr>\n",
              "    <tr>\n",
              "      <th>61</th>\n",
              "      <td>62</td>\n",
              "      <td>Wed</td>\n",
              "      <td>2022-12-14 22:00:00</td>\n",
              "      <td>France</td>\n",
              "      <td>Morocco</td>\n",
              "      <td>NaN</td>\n",
              "      <td>NaN</td>\n",
              "      <td>NaN</td>\n",
              "      <td>NaN</td>\n",
              "      <td>Al Bayt Stadium</td>\n",
              "      <td>...</td>\n",
              "      <td>NaN</td>\n",
              "      <td>NaN</td>\n",
              "      <td>NaN</td>\n",
              "      <td>NaN</td>\n",
              "      <td>NaN</td>\n",
              "      <td>NaN</td>\n",
              "      <td>NaN</td>\n",
              "      <td>NaN</td>\n",
              "      <td>NaN</td>\n",
              "      <td>NaN</td>\n",
              "    </tr>\n",
              "  </tbody>\n",
              "</table>\n",
              "<p>62 rows × 53 columns</p>\n",
              "</div>\n",
              "      <button class=\"colab-df-convert\" onclick=\"convertToInteractive('df-3f97e371-8b87-4214-9889-a8a0fd732d56')\"\n",
              "              title=\"Convert this dataframe to an interactive table.\"\n",
              "              style=\"display:none;\">\n",
              "        \n",
              "  <svg xmlns=\"http://www.w3.org/2000/svg\" height=\"24px\"viewBox=\"0 0 24 24\"\n",
              "       width=\"24px\">\n",
              "    <path d=\"M0 0h24v24H0V0z\" fill=\"none\"/>\n",
              "    <path d=\"M18.56 5.44l.94 2.06.94-2.06 2.06-.94-2.06-.94-.94-2.06-.94 2.06-2.06.94zm-11 1L8.5 8.5l.94-2.06 2.06-.94-2.06-.94L8.5 2.5l-.94 2.06-2.06.94zm10 10l.94 2.06.94-2.06 2.06-.94-2.06-.94-.94-2.06-.94 2.06-2.06.94z\"/><path d=\"M17.41 7.96l-1.37-1.37c-.4-.4-.92-.59-1.43-.59-.52 0-1.04.2-1.43.59L10.3 9.45l-7.72 7.72c-.78.78-.78 2.05 0 2.83L4 21.41c.39.39.9.59 1.41.59.51 0 1.02-.2 1.41-.59l7.78-7.78 2.81-2.81c.8-.78.8-2.07 0-2.86zM5.41 20L4 18.59l7.72-7.72 1.47 1.35L5.41 20z\"/>\n",
              "  </svg>\n",
              "      </button>\n",
              "      \n",
              "  <style>\n",
              "    .colab-df-container {\n",
              "      display:flex;\n",
              "      flex-wrap:wrap;\n",
              "      gap: 12px;\n",
              "    }\n",
              "\n",
              "    .colab-df-convert {\n",
              "      background-color: #E8F0FE;\n",
              "      border: none;\n",
              "      border-radius: 50%;\n",
              "      cursor: pointer;\n",
              "      display: none;\n",
              "      fill: #1967D2;\n",
              "      height: 32px;\n",
              "      padding: 0 0 0 0;\n",
              "      width: 32px;\n",
              "    }\n",
              "\n",
              "    .colab-df-convert:hover {\n",
              "      background-color: #E2EBFA;\n",
              "      box-shadow: 0px 1px 2px rgba(60, 64, 67, 0.3), 0px 1px 3px 1px rgba(60, 64, 67, 0.15);\n",
              "      fill: #174EA6;\n",
              "    }\n",
              "\n",
              "    [theme=dark] .colab-df-convert {\n",
              "      background-color: #3B4455;\n",
              "      fill: #D2E3FC;\n",
              "    }\n",
              "\n",
              "    [theme=dark] .colab-df-convert:hover {\n",
              "      background-color: #434B5C;\n",
              "      box-shadow: 0px 1px 3px 1px rgba(0, 0, 0, 0.15);\n",
              "      filter: drop-shadow(0px 1px 2px rgba(0, 0, 0, 0.3));\n",
              "      fill: #FFFFFF;\n",
              "    }\n",
              "  </style>\n",
              "\n",
              "      <script>\n",
              "        const buttonEl =\n",
              "          document.querySelector('#df-3f97e371-8b87-4214-9889-a8a0fd732d56 button.colab-df-convert');\n",
              "        buttonEl.style.display =\n",
              "          google.colab.kernel.accessAllowed ? 'block' : 'none';\n",
              "\n",
              "        async function convertToInteractive(key) {\n",
              "          const element = document.querySelector('#df-3f97e371-8b87-4214-9889-a8a0fd732d56');\n",
              "          const dataTable =\n",
              "            await google.colab.kernel.invokeFunction('convertToInteractive',\n",
              "                                                     [key], {});\n",
              "          if (!dataTable) return;\n",
              "\n",
              "          const docLinkHtml = 'Like what you see? Visit the ' +\n",
              "            '<a target=\"_blank\" href=https://colab.research.google.com/notebooks/data_table.ipynb>data table notebook</a>'\n",
              "            + ' to learn more about interactive tables.';\n",
              "          element.innerHTML = '';\n",
              "          dataTable['output_type'] = 'display_data';\n",
              "          await google.colab.output.renderOutput(dataTable, element);\n",
              "          const docLink = document.createElement('div');\n",
              "          docLink.innerHTML = docLinkHtml;\n",
              "          element.appendChild(docLink);\n",
              "        }\n",
              "      </script>\n",
              "    </div>\n",
              "  </div>\n",
              "  "
            ]
          },
          "metadata": {},
          "execution_count": 1
        }
      ],
      "source": [
        "  import pandas as pd\n",
        "  import matplotlib.pyplot as plt\n",
        "\n",
        "  wc_data = pd.read_csv(\"/content/sample_data/data.csv\")\n",
        "  wc_data"
      ]
    },
    {
      "cell_type": "markdown",
      "source": [
        "# 1) Análise de passes completos x chutes no gol"
      ],
      "metadata": {
        "id": "w3uMbq8f3zg1"
      }
    },
    {
      "cell_type": "code",
      "source": [
        "passes_kicks = wc_data\n",
        "df = pd.DataFrame(columns=[\"kicks\"])\n",
        "df[\"kicks\"] = passes_kicks.set_index(\"home_completed_passes\")[\"home_total_shots\"]\n",
        "df = df.sort_index()\n",
        "df.plot()\n",
        "\n"
      ],
      "metadata": {
        "colab": {
          "base_uri": "https://localhost:8080/",
          "height": 297
        },
        "id": "LAx6eJhd3x-I",
        "outputId": "3f6b638c-e544-48d5-fcb5-e5b2647d48d9"
      },
      "execution_count": null,
      "outputs": [
        {
          "output_type": "execute_result",
          "data": {
            "text/plain": [
              "<matplotlib.axes._subplots.AxesSubplot at 0x7fa8d6dd3670>"
            ]
          },
          "metadata": {},
          "execution_count": 2
        },
        {
          "output_type": "display_data",
          "data": {
            "text/plain": [
              "<Figure size 432x288 with 1 Axes>"
            ],
            "image/png": "[encoded data removed]"
          },
          "metadata": {
            "needs_background": "light"
          }
        }
      ]
    },
    {
      "cell_type": "markdown",
      "source": [
        "### É possivel perceber uma leve correlação entre as duas variáveis. A partir do aumento do número de passes completos, ha uma maior ocorrência de chutes, mas nem todas partidas seguem essa relação. Umas partidas têm mais passes completos e menos chutes, outras mais chutes e menos passes. Não pode-se concluir que o número de passes têm relação direta com o numero de chutes, mas pode-se dizer que ha uma influência sim."
      ],
      "metadata": {
        "id": "vxkppAXgBsvt"
      }
    },
    {
      "cell_type": "markdown",
      "source": [
        "# 2) Análise defesas de um time vs numero de escanteios"
      ],
      "metadata": {
        "id": "lle3P-voDJP5"
      }
    },
    {
      "cell_type": "code",
      "source": [
        "df = pd.DataFrame(columns=[\"corners\"])\n",
        "df[\"corners\"] = wc_data.set_index(\"away_clearances\")[\"home_corners\"]\n",
        "df = df.sort_index()\n",
        "df.plot()"
      ],
      "metadata": {
        "colab": {
          "base_uri": "https://localhost:8080/",
          "height": 297
        },
        "id": "H99Pls0NDGTG",
        "outputId": "47c870a4-7c6f-489c-f513-dd9e35245a8c"
      },
      "execution_count": null,
      "outputs": [
        {
          "output_type": "execute_result",
          "data": {
            "text/plain": [
              "<matplotlib.axes._subplots.AxesSubplot at 0x7fa8d6d24cd0>"
            ]
          },
          "metadata": {},
          "execution_count": 3
        },
        {
          "output_type": "display_data",
          "data": {
            "text/plain": [
              "<Figure size 432x288 with 1 Axes>"
            ],
            "image/png": "[encoded data removed]"
          },
          "metadata": {
            "needs_background": "light"
          }
        }
      ]
    },
    {
      "cell_type": "markdown",
      "source": [
        "### Neste gráfico, percebe-se uma relação entre o número de escanteios de um time com o numero de defesas do outro. Uma parte das defesas é responsável por causar escanteios, quando a bola sai pela linha de fundo, por isso, é possivel dizer que ha uma correlação."
      ],
      "metadata": {
        "id": "pDmlsz-5QRfx"
      }
    },
    {
      "cell_type": "markdown",
      "source": [
        "# 3) Análise posse de bola x gols esperados"
      ],
      "metadata": {
        "id": "UMuVhfpZXfCt"
      }
    },
    {
      "cell_type": "code",
      "source": [
        "df1 = pd.DataFrame(columns=[\"possesion\", \"expected\"])\n",
        "df1[\"possesion\"] = wc_data[\"home_possession\"]\n",
        "df1[\"expected\"] = wc_data[\"home_xg\"]\n",
        "df2 = pd.DataFrame(columns=[\"possesion\", \"expected\"])\n",
        "df2[\"possesion\"] = wc_data[\"away_possession\"]\n",
        "df2[\"expected\"] = wc_data[\"away_xg\"]\n",
        "df = df1.append(df2).reset_index()\n",
        "df = df.set_index(\"possesion\")\n",
        "df = df.drop(\"index\", axis=1)\n",
        "df = df.sort_index()\n",
        "df = df.dropna()\n",
        "df.plot()"
      ],
      "metadata": {
        "colab": {
          "base_uri": "https://localhost:8080/",
          "height": 296
        },
        "id": "8j-g3Is0HgKq",
        "outputId": "44dba8fb-9581-41e4-d664-91ff6967724d"
      },
      "execution_count": null,
      "outputs": [
        {
          "output_type": "execute_result",
          "data": {
            "text/plain": [
              "<matplotlib.axes._subplots.AxesSubplot at 0x7f4b0875de20>"
            ]
          },
          "metadata": {},
          "execution_count": 107
        },
        {
          "output_type": "display_data",
          "data": {
            "text/plain": [
              "<Figure size 432x288 with 1 Axes>"
            ],
            "image/png": "[encoded data removed]"
          },
          "metadata": {
            "needs_background": "light"
          }
        }
      ]
    },
    {
      "cell_type": "markdown",
      "source": [
        "### Na análize do gráfico não é possível perceber muita correlação entre as variáveis no primeiro momento, pois não ha uma inclinação clara. Contudo, pode-se perceber que a maioria dos times que tiveram menor posse de bola (mais a esquerda), não tiveram altas espectativas de gol. Por outro lado, a parte da direita do gráfico, contendo os times que apresentaram maior posse de bola, apresenta times com as maiores espectativas de gol, como 3, 4 e 5 gols na partida. Com isso, pode-se dizer que, os times que apresentam maior espectativa de gol, consequentemente são os que apresentam maior posse de bola ao longo do jogo."
      ],
      "metadata": {
        "id": "N5XskuLUXprz"
      }
    },
    {
      "cell_type": "markdown",
      "source": [
        "# 4) Análise chutes no gol x defesas"
      ],
      "metadata": {
        "id": "MBVMEWDEZiTb"
      }
    },
    {
      "cell_type": "code",
      "source": [
        "df1 = pd.DataFrame(columns=[\"kicks\", \"saves\"])\n",
        "df1[\"kicks\"] = wc_data[\"home_gks\"]\n",
        "df1[\"saves\"] = wc_data[\"away_saves\"]\n",
        "df2 = pd.DataFrame(columns=[\"kicks\", \"saves\"])\n",
        "df2[\"kicks\"] = wc_data[\"away_gks\"]\n",
        "df2[\"saves\"] = wc_data[\"home_saves\"]\n",
        "df = df1.append(df2).reset_index()\n",
        "df = df.set_index(\"kicks\")\n",
        "df = df.drop(\"index\", axis=1)\n",
        "df = df.sort_index()\n",
        "df = df.dropna()\n",
        "df.plot()"
      ],
      "metadata": {
        "colab": {
          "base_uri": "https://localhost:8080/",
          "height": 296
        },
        "id": "U3Dp0kXNZrwO",
        "outputId": "f8f4cbbf-9413-4eb8-c6d1-f411d336c900"
      },
      "execution_count": null,
      "outputs": [
        {
          "output_type": "execute_result",
          "data": {
            "text/plain": [
              "<matplotlib.axes._subplots.AxesSubplot at 0x7fa8d6832a30>"
            ]
          },
          "metadata": {},
          "execution_count": 5
        },
        {
          "output_type": "display_data",
          "data": {
            "text/plain": [
              "<Figure size 432x288 with 1 Axes>"
            ],
            "image/png": "[encoded data removed]"
          },
          "metadata": {
            "needs_background": "light"
          }
        }
      ]
    },
    {
      "cell_type": "markdown",
      "source": [
        "### Ná análise do gráfico apesar da representação acima não ser a mais apropriada, percebe-se que ha uma relação, pois toda vez que acontece um chute no gol, são três as váriaves possiveis,são elas: o gol, a defesa do goleiro e a saida de bola que indica o tiro de meta ou rebote, dentre essas váriaveis trabalhamos com 33,333% de que os lances no gol que sejam defesas do goleiro, não incluindo defesas de barreira, mas mesdmo excluindo as outras variáveis a relação chutes no gol e defesa do golero existem e são proporcionais. "
      ],
      "metadata": {
        "id": "KGjuZaUJefrK"
      }
    }
  ]
}